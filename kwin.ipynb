{
 "cells": [
  {
   "cell_type": "code",
   "execution_count": 6,
   "id": "604b8536",
   "metadata": {
    "_cell_guid": "b1076dfc-b9ad-4769-8c92-a6c4dae69d19",
    "_uuid": "8f2839f25d086af736a60e9eeb907d3b93b6e0e5",
    "execution": {
     "iopub.execute_input": "2024-06-05T16:00:47.765283Z",
     "iopub.status.busy": "2024-06-05T16:00:47.764946Z",
     "iopub.status.idle": "2024-06-05T16:00:53.448118Z",
     "shell.execute_reply": "2024-06-05T16:00:53.447200Z"
    },
    "papermill": {
     "duration": 5.690997,
     "end_time": "2024-06-05T16:00:53.450768",
     "exception": false,
     "start_time": "2024-06-05T16:00:47.759771",
     "status": "completed"
    },
    "tags": []
   },
   "outputs": [],
   "source": [
    "import pandas as pd\n",
    "import numpy as np\n",
    "import seaborn as sns\n",
    "import matplotlib.pyplot as plt\n",
    "from xgboost import XGBClassifier\n",
    "from catboost import CatBoostClassifier\n",
    "from lightgbm import early_stopping,log_evaluation, Dataset, LGBMClassifier\n",
    "import lightgbm as lgb\n",
    "from sklearn.model_selection import RepeatedKFold\n",
    "from sklearn.metrics import accuracy_score,make_scorer \n",
    "from sklearn import set_config\n",
    "import warnings\n",
    "\n",
    "from sklearn.preprocessing import PolynomialFeatures,OneHotEncoder\n",
    "from sklearn.preprocessing import MultiLabelBinarizer\n",
    "from sklearn.pipeline import Pipeline\n",
    "from sklearn.impute import SimpleImputer\n",
    "from scipy.stats import mode\n",
    "from sklearn.preprocessing import LabelEncoder\n",
    "from pprint import pprint\n",
    "from time import time\n",
    "from scipy.stats import kurtosis, skew, gmean, mode,trim_mean, mstats\n",
    "from scipy.stats.mstats import winsorize\n",
    "# Skopt functions\n"
   ]
  },
  {
   "cell_type": "code",
   "execution_count": 10,
   "id": "af1c24e5",
   "metadata": {},
   "outputs": [
    {
     "ename": "ModuleNotFoundError",
     "evalue": "No module named 'skopt'",
     "output_type": "error",
     "traceback": [
      "\u001b[1;31m---------------------------------------------------------------------------\u001b[0m",
      "\u001b[1;31mModuleNotFoundError\u001b[0m                       Traceback (most recent call last)",
      "Cell \u001b[1;32mIn[10], line 1\u001b[0m\n\u001b[1;32m----> 1\u001b[0m \u001b[38;5;28;01mfrom\u001b[39;00m \u001b[38;5;21;01mskopt\u001b[39;00m \u001b[38;5;28;01mimport\u001b[39;00m BayesSearchCV\n\u001b[0;32m      2\u001b[0m \u001b[38;5;28;01mfrom\u001b[39;00m \u001b[38;5;21;01mskopt\u001b[39;00m \u001b[38;5;28;01mimport\u001b[39;00m gp_minimize \u001b[38;5;66;03m# Bayesian optimization using Gaussian Processes\u001b[39;00m\n\u001b[0;32m      3\u001b[0m \u001b[38;5;28;01mfrom\u001b[39;00m \u001b[38;5;21;01mskopt\u001b[39;00m\u001b[38;5;21;01m.\u001b[39;00m\u001b[38;5;21;01mspace\u001b[39;00m \u001b[38;5;28;01mimport\u001b[39;00m Real, Categorical, Integer\n",
      "\u001b[1;31mModuleNotFoundError\u001b[0m: No module named 'skopt'"
     ]
    }
   ],
   "source": [
    "from skopt import BayesSearchCV\n",
    "from skopt import gp_minimize # Bayesian optimization using Gaussian Processes\n",
    "from skopt.space import Real, Categorical, Integer\n",
    "from skopt.utils import use_named_args # decorator to convert a list of parameters to named arguments\n",
    "from skopt.callbacks import DeadlineStopper # Stop the optimization before running out of a fixed budget of time.\n",
    "from skopt.callbacks import VerboseCallback # Callback to control the verbosity\n",
    "from skopt.callbacks import DeltaXStopper # Stop the optimization If the last two positions at which the objective has been evaluated are less than delta\n",
    "\n",
    "warnings.filterwarnings('ignore')\n",
    "\n",
    "sns.set_theme(style = 'white', palette = 'viridis')\n",
    "pal = sns.color_palette('viridis')\n",
    "\n",
    "pd.set_option('display.max_rows', 100)\n",
    "set_config(transform_output = 'pandas')\n",
    "pd.options.mode.chained_assignment = None"
   ]
  },
  {
   "cell_type": "code",
   "execution_count": 9,
   "id": "d72ed769",
   "metadata": {},
   "outputs": [
    {
     "name": "stdout",
     "output_type": "stream",
     "text": [
      "Note: you may need to restart the kernel to use updated packages.\n"
     ]
    },
    {
     "name": "stderr",
     "output_type": "stream",
     "text": [
      "ERROR: Could not find a version that satisfies the requirement skopt (from versions: none)\n",
      "ERROR: No matching distribution found for skopt\n"
     ]
    }
   ],
   "source": [
    "pip install skopt"
   ]
  },
  {
   "cell_type": "code",
   "execution_count": 14,
   "id": "7c055b96",
   "metadata": {
    "execution": {
     "iopub.execute_input": "2024-06-05T16:00:53.460667Z",
     "iopub.status.busy": "2024-06-05T16:00:53.460036Z",
     "iopub.status.idle": "2024-06-05T16:00:54.042971Z",
     "shell.execute_reply": "2024-06-05T16:00:54.042047Z"
    },
    "papermill": {
     "duration": 0.590414,
     "end_time": "2024-06-05T16:00:54.045411",
     "exception": false,
     "start_time": "2024-06-05T16:00:53.454997",
     "status": "completed"
    },
    "tags": []
   },
   "outputs": [],
   "source": [
    "train = pd.read_csv('train.csv')\n",
    "test = pd.read_csv('test.csv')"
   ]
  },
  {
   "cell_type": "code",
   "execution_count": 15,
   "id": "52e376ba",
   "metadata": {
    "execution": {
     "iopub.execute_input": "2024-06-05T16:00:54.054458Z",
     "iopub.status.busy": "2024-06-05T16:00:54.053662Z",
     "iopub.status.idle": "2024-06-05T16:00:54.491044Z",
     "shell.execute_reply": "2024-06-05T16:00:54.490099Z"
    },
    "papermill": {
     "duration": 0.444117,
     "end_time": "2024-06-05T16:00:54.493313",
     "exception": false,
     "start_time": "2024-06-05T16:00:54.049196",
     "status": "completed"
    },
    "tags": []
   },
   "outputs": [
    {
     "data": {
      "text/plain": [
       "<Axes: >"
      ]
     },
     "execution_count": 15,
     "metadata": {},
     "output_type": "execute_result"
    },
    {
     "data": {
      "image/png": "[encoded data removed]",
      "text/plain": [
       "<Figure size 640x480 with 1 Axes>"
      ]
     },
     "metadata": {},
     "output_type": "display_data"
    }
   ],
   "source": [
    "train.Target.value_counts().plot(kind='bar')"
   ]
  },
  {
   "cell_type": "code",
   "execution_count": 16,
   "id": "77a1f3c9",
   "metadata": {
    "execution": {
     "iopub.execute_input": "2024-06-05T16:00:54.502527Z",
     "iopub.status.busy": "2024-06-05T16:00:54.502243Z",
     "iopub.status.idle": "2024-06-05T16:00:54.530520Z",
     "shell.execute_reply": "2024-06-05T16:00:54.529678Z"
    },
    "papermill": {
     "duration": 0.035232,
     "end_time": "2024-06-05T16:00:54.532419",
     "exception": false,
     "start_time": "2024-06-05T16:00:54.497187",
     "status": "completed"
    },
    "tags": []
   },
   "outputs": [],
   "source": [
    "# The replacing of values is taken from following notebook\n",
    "# https://www.kaggle.com/code/gauravduttakiit/pss4e6-flaml-roc-auc-ovo/notebook\n",
    "\n",
    "class Model:\n",
    "    def __init__(self, train, test):\n",
    "        self.train = train\n",
    "        self.test = test\n",
    "        self.model_dict = dict()\n",
    "        self.test_predict_list = list()\n",
    "     \n",
    "    def preprocess(self):\n",
    "        \n",
    "        # https://www.kaggle.com/code/ambrosm/pss4e6-eda-which-makes-sense#Comparing-train,-test-and-the-original-data\n",
    "#         cat_features = ['Marital status', 'Application mode', 'Course',\n",
    "#                 'Previous qualification', 'Nacionality', \"Mother's qualification\", \n",
    "#                 \"Father's qualification\", \"Mother's occupation\",\n",
    "#                 \"Father's occupation\"]\n",
    "#         for feature in cat_features:\n",
    "#             dtype = pd.CategoricalDtype(categories=list(set(self.train[feature]) | set(self.test[feature])), ordered=False)\n",
    "#             for df in [self.train, self.test ]:\n",
    "#                 df[feature] = df[feature].astype(dtype)\n",
    "        self.train.Target = self.train.Target.map({\"Graduate\":0,\n",
    "                                                  \"Dropout\":1,\n",
    "                                                  \"Enrolled\":2})\n",
    "#         self.train['Application mode']=self.train['Application mode'].replace({12:np.NaN,\n",
    "#                                                            4:np.NaN,\n",
    "#                                                             35:np.NaN,\n",
    "#                                                             9:np.NaN,\n",
    "#                                                             3:np.NaN}\n",
    "#                                                            )\n",
    "#         self.test['Application mode']=self.test['Application mode'].replace({14:np.NaN,\n",
    "#                                                            35:np.NaN,\n",
    "#                                                             19:np.NaN,\n",
    "#                                                             3:np.NaN}\n",
    "#                                                            )\n",
    "#         self.train['Course']=self.train['Course'].replace({979:np.NaN,\n",
    "#                                          39:np.NaN })\n",
    "#         self.test['Course']=self.test['Course'].replace({7500:np.NaN,\n",
    "#                                          9257:np.NaN,\n",
    "#                                         2105:np.NaN,\n",
    "#                                          4147:np.NaN,})\n",
    "#         self.train['Previous qualification']=self.train['Previous qualification'].replace({37:np.NaN,\n",
    "#                                          36:np.NaN, \n",
    "#                                         17:np.NaN,\n",
    "#                                         11:np.NaN})\n",
    "#         self.test['Previous qualification']=self.test['Previous qualification'].replace({17:np.NaN,\n",
    "#                                                                        11:np.NaN,\n",
    "#                                                                        16:np.NaN})\n",
    "    \n",
    "    def fit(self,params,name):\n",
    "        target_col = ['Target']\n",
    "        drop_col = ['id']\n",
    "        self.preprocess()\n",
    "        \n",
    "        train_cols = [col for col in self.train.columns.to_list() if col not in target_col + drop_col]\n",
    "        scores = list()\n",
    "        \n",
    "        \n",
    "        for i in range(1):\n",
    "            mskf = RepeatedKFold(n_splits=10, n_repeats=1,random_state=22)\n",
    "            oof_valid_preds = np.zeros(self.train[train_cols].shape[0])\n",
    "                \n",
    "            for fold, (train_idx, valid_idx) in enumerate(mskf.split(self.train[train_cols], self.train[target_col])):\n",
    "                X_train, y_train = self.train[train_cols].iloc[train_idx], self.train[target_col].iloc[train_idx]\n",
    "                X_valid, y_valid = self.train[train_cols].iloc[valid_idx], self.train[target_col].iloc[valid_idx]\n",
    "                \n",
    "                if name == 'lgbm':\n",
    "                    early_stopping_callback = early_stopping(100,first_metric_only=True,verbose=False)\n",
    "                    verbose_callback  = log_evaluation(125)\n",
    "                    algo = LGBMClassifier(random_state=i+fold,**params)\n",
    "                    algo.fit(X_train, y_train, eval_set=[(X_valid, y_valid)],\n",
    "                            callbacks=[early_stopping_callback,verbose_callback],eval_metric='multi_logloss')\n",
    "                elif name== 'catboost':\n",
    "                    algo = CatBoostlassifier(random_state=i+fold,**params)\n",
    "                else:\n",
    "                    algo = XGBClassifier(random_state=i+fold, missing=float('inf'),**params)\n",
    "                    algo.fit(X_train, y_train, eval_set=[(X_valid, y_valid)],verbose=False)\n",
    "                    \n",
    "                valid_preds = algo.predict(X_valid)\n",
    "                oof_valid_preds[valid_idx] = valid_preds\n",
    "                test_predict = algo.predict(self.test[train_cols])\n",
    "                self.test_predict_list.append(test_predict)\n",
    "                score = accuracy_score(y_valid, valid_preds)\n",
    "                print(f\"\\nFold: {fold+1}\\n===>Accuracy score: {score}\")\n",
    "                self.model_dict[f'fold_{fold}'] = algo\n",
    "                    \n",
    "            oof_score = accuracy_score(self.train[target_col], oof_valid_preds)\n",
    "            print(f\"The OOF accuracy score for iteration {i+1} is {oof_score}\")\n",
    "            scores.append(oof_score)\n",
    "        predictions_3d = np.array(self.test_predict_list)\n",
    "\n",
    "        # Perform majority voting to find the final prediction for each entry\n",
    "        final_predictions = []\n",
    "        for entry_predictions in predictions_3d.T:  # Iterate over each entry's predictions\n",
    "            unique, counts = np.unique(entry_predictions, return_counts=True)\n",
    "            final_predictions.append(unique[np.argmax(counts)])\n",
    "\n",
    "        return final_predictions\n",
    "    \n",
    "    def report_perf(self,optimizer, X, y, title, callbacks=None):\n",
    "        \"\"\"\n",
    "        A wrapper for measuring time and performances of different optmizers\n",
    "\n",
    "        optimizer = a sklearn or a skopt optimizer\n",
    "        X = the training set \n",
    "        y = our target\n",
    "        title = a string label for the experiment\n",
    "        \"\"\"\n",
    "        start = time()\n",
    "        if callbacks:\n",
    "            optimizer.fit(X, y, callback=callbacks)\n",
    "        else:\n",
    "            optimizer.fit(X, y)\n",
    "        best_score = optimizer.best_score_\n",
    "        best_score_std = optimizer.cv_results_['std_test_score'][optimizer.best_index_]\n",
    "        best_params = optimizer.best_params_\n",
    "        print((title + \" took %.2f seconds,  candidates checked: %d, best CV score: %.6f \"\n",
    "               +u\"\\u00B1\"+\" %.6f\") % (time() - start, \n",
    "                                      len(optimizer.cv_results_['params']),\n",
    "                                      best_score,\n",
    "                                      best_score_std))    \n",
    "        print('Best parameters:')\n",
    "        pprint(best_params)\n",
    "        print()\n",
    "        return best_params\n",
    "    \n",
    "    \n",
    "    def find_params(self):\n",
    "        self.preprocess()\n",
    "        avg_acc = make_scorer(accuracy_score, greater_is_better=True, needs_proba=False)\n",
    "        search_spaces = {\n",
    "            'num_leaves': Integer(2, 210, prior='uniform'),\n",
    "            'learning_rate': Real(0.001, 0.1, prior='log-uniform'),\n",
    "            'n_estimators': Integer(50, 1000, prior='uniform'),\n",
    "            'subsample_for_bin': Integer(10000, 500000, prior='uniform'),\n",
    "            'min_child_samples': Integer(1, 100, prior='uniform'),\n",
    "            'reg_alpha': Real(1e-10, 1e-5, prior='log-uniform'),\n",
    "            'reg_lambda': Real(1e-10, 1e-5, prior='log-uniform'),\n",
    "            'colsample_bytree': Real(0.1, 0.9, prior='uniform'),\n",
    "            'subsample': Real(0.5, 1.0, prior='uniform'),\n",
    "            'max_depth': Integer(2, 20, prior='uniform')\n",
    "        }\n",
    "        skf = RepeatedKFold(n_splits=10, n_repeats=1,random_state=42)\n",
    "\n",
    "        opt = BayesSearchCV(LGBMClassifier(verbosity=-1,device='gpu'),\n",
    "                    search_spaces,\n",
    "                    scoring=avg_acc,\n",
    "                    cv=skf,\n",
    "                    n_iter=10000,\n",
    "                    n_jobs=1,  \n",
    "                    return_train_score=False,\n",
    "                    refit=True,\n",
    "                    optimizer_kwargs={'base_estimator': 'GP'},\n",
    "                    random_state=22)\n",
    "        target_col = ['Target']\n",
    "        drop_col = ['id']\n",
    "        train_cols = [col for col in self.train.columns.to_list() if col not in target_col + drop_col]\n",
    "        X = self.train[train_cols]\n",
    "        y = self.train[target_col]\n",
    "        best_params = self.report_perf(opt, X, y,'LightBoost', \n",
    "                          callbacks=[DeltaXStopper(0.001), \n",
    "                                     DeadlineStopper(60*60*11)])"
   ]
  },
  {
   "cell_type": "code",
   "execution_count": 17,
   "id": "fc04a426",
   "metadata": {
    "execution": {
     "iopub.execute_input": "2024-06-05T16:00:54.541223Z",
     "iopub.status.busy": "2024-06-05T16:00:54.540954Z",
     "iopub.status.idle": "2024-06-05T16:00:54.546270Z",
     "shell.execute_reply": "2024-06-05T16:00:54.545452Z"
    },
    "papermill": {
     "duration": 0.011951,
     "end_time": "2024-06-05T16:00:54.548205",
     "exception": false,
     "start_time": "2024-06-05T16:00:54.536254",
     "status": "completed"
    },
    "tags": []
   },
   "outputs": [],
   "source": [
    "# https://www.kaggle.com/code/aspillai/academic-dataset-lightgbm-0-83767\n",
    "lgbm_params = {'n_estimators': 8000, \n",
    "          'num_class': 3,\n",
    "          'boosting_type': 'gbdt',\n",
    "          'objective': 'multiclass',\n",
    "          'metric': 'multi_logloss',\n",
    "          'verbosity': -1,\n",
    "          #'random_state': 99, \n",
    "          'reg_alpha': 1.7878527151970849, \n",
    "          'reg_lambda': 1.391543710164331, \n",
    "          'colsample_bytree': 0.5, \n",
    "          'subsample': 0.5, \n",
    "          'learning_rate': 0.04, \n",
    "          'max_depth': 20, \n",
    "          'num_leaves': 70, \n",
    "          'min_child_samples': 40, \n",
    "          'min_data_per_groups': 16,\n",
    "          'device':'gpu',\n",
    "          \"extra_trees\": True\n",
    "    }"
   ]
  },
  {
   "cell_type": "code",
   "execution_count": null,
   "id": "499c9c5a",
   "metadata": {
    "execution": {
     "iopub.execute_input": "2024-06-05T16:00:54.556651Z",
     "iopub.status.busy": "2024-06-05T16:00:54.556364Z",
     "iopub.status.idle": "2024-06-05T16:12:59.176520Z",
     "shell.execute_reply": "2024-06-05T16:12:59.175475Z"
    },
    "papermill": {
     "duration": 724.627058,
     "end_time": "2024-06-05T16:12:59.178942",
     "exception": false,
     "start_time": "2024-06-05T16:00:54.551884",
     "status": "completed"
    },
    "tags": []
   },
   "outputs": [
    {
     "name": "stderr",
     "output_type": "stream",
     "text": [
      "C:\\Users\\ayush\\anaconda3\\Lib\\site-packages\\sklearn\\preprocessing\\_label.py:99: DataConversionWarning: A column-vector y was passed when a 1d array was expected. Please change the shape of y to (n_samples, ), for example using ravel().\n",
      "  y = column_or_1d(y, warn=True)\n",
      "C:\\Users\\ayush\\anaconda3\\Lib\\site-packages\\sklearn\\preprocessing\\_label.py:134: DataConversionWarning: A column-vector y was passed when a 1d array was expected. Please change the shape of y to (n_samples, ), for example using ravel().\n",
      "  y = column_or_1d(y, dtype=self.classes_.dtype, warn=True)\n",
      "C:\\Users\\ayush\\anaconda3\\Lib\\site-packages\\sklearn\\preprocessing\\_label.py:134: DataConversionWarning: A column-vector y was passed when a 1d array was expected. Please change the shape of y to (n_samples, ), for example using ravel().\n",
      "  y = column_or_1d(y, dtype=self.classes_.dtype, warn=True)\n"
     ]
    },
    {
     "name": "stdout",
     "output_type": "stream",
     "text": [
      "[125]\tvalid_0's multi_logloss: 0.478202\n",
      "[250]\tvalid_0's multi_logloss: 0.451496\n",
      "[375]\tvalid_0's multi_logloss: 0.441947\n",
      "[500]\tvalid_0's multi_logloss: 0.437736\n",
      "[625]\tvalid_0's multi_logloss: 0.435089\n",
      "[750]\tvalid_0's multi_logloss: 0.433196\n",
      "[875]\tvalid_0's multi_logloss: 0.431753\n",
      "[1000]\tvalid_0's multi_logloss: 0.430672\n",
      "[1125]\tvalid_0's multi_logloss: 0.429789\n",
      "[1250]\tvalid_0's multi_logloss: 0.4289\n",
      "[1375]\tvalid_0's multi_logloss: 0.428238\n",
      "[1500]\tvalid_0's multi_logloss: 0.427871\n",
      "[1625]\tvalid_0's multi_logloss: 0.427447\n",
      "[1750]\tvalid_0's multi_logloss: 0.427078\n",
      "[1875]\tvalid_0's multi_logloss: 0.426829\n",
      "[2000]\tvalid_0's multi_logloss: 0.426565\n",
      "[2125]\tvalid_0's multi_logloss: 0.426287\n",
      "[2250]\tvalid_0's multi_logloss: 0.426041\n",
      "[2375]\tvalid_0's multi_logloss: 0.425804\n",
      "[2500]\tvalid_0's multi_logloss: 0.425742\n",
      "[2625]\tvalid_0's multi_logloss: 0.425629\n",
      "[2750]\tvalid_0's multi_logloss: 0.425475\n",
      "[2875]\tvalid_0's multi_logloss: 0.425418\n",
      "[3000]\tvalid_0's multi_logloss: 0.425299\n",
      "[3125]\tvalid_0's multi_logloss: 0.425228\n",
      "[3250]\tvalid_0's multi_logloss: 0.425135\n",
      "[3375]\tvalid_0's multi_logloss: 0.425074\n",
      "[3500]\tvalid_0's multi_logloss: 0.425043\n",
      "[3625]\tvalid_0's multi_logloss: 0.424997\n",
      "[3750]\tvalid_0's multi_logloss: 0.42496\n",
      "\n",
      "Fold: 1\n",
      "===>Accuracy score: 0.8366440146366962\n"
     ]
    },
    {
     "name": "stderr",
     "output_type": "stream",
     "text": [
      "C:\\Users\\ayush\\anaconda3\\Lib\\site-packages\\sklearn\\preprocessing\\_label.py:99: DataConversionWarning: A column-vector y was passed when a 1d array was expected. Please change the shape of y to (n_samples, ), for example using ravel().\n",
      "  y = column_or_1d(y, warn=True)\n",
      "C:\\Users\\ayush\\anaconda3\\Lib\\site-packages\\sklearn\\preprocessing\\_label.py:134: DataConversionWarning: A column-vector y was passed when a 1d array was expected. Please change the shape of y to (n_samples, ), for example using ravel().\n",
      "  y = column_or_1d(y, dtype=self.classes_.dtype, warn=True)\n",
      "C:\\Users\\ayush\\anaconda3\\Lib\\site-packages\\sklearn\\preprocessing\\_label.py:134: DataConversionWarning: A column-vector y was passed when a 1d array was expected. Please change the shape of y to (n_samples, ), for example using ravel().\n",
      "  y = column_or_1d(y, dtype=self.classes_.dtype, warn=True)\n"
     ]
    },
    {
     "name": "stdout",
     "output_type": "stream",
     "text": [
      "[125]\tvalid_0's multi_logloss: 0.476629\n",
      "[250]\tvalid_0's multi_logloss: 0.454532\n",
      "[375]\tvalid_0's multi_logloss: 0.447793\n",
      "[500]\tvalid_0's multi_logloss: 0.444231\n",
      "[625]\tvalid_0's multi_logloss: 0.441943\n",
      "[750]\tvalid_0's multi_logloss: 0.440349\n",
      "[875]\tvalid_0's multi_logloss: 0.439175\n",
      "[1000]\tvalid_0's multi_logloss: 0.438132\n",
      "[1125]\tvalid_0's multi_logloss: 0.437341\n",
      "[1250]\tvalid_0's multi_logloss: 0.436731\n",
      "[1375]\tvalid_0's multi_logloss: 0.436205\n",
      "[1500]\tvalid_0's multi_logloss: 0.435938\n",
      "[1625]\tvalid_0's multi_logloss: 0.435612\n",
      "[1750]\tvalid_0's multi_logloss: 0.435215\n",
      "[1875]\tvalid_0's multi_logloss: 0.435006\n",
      "[2000]\tvalid_0's multi_logloss: 0.434955\n",
      "\n",
      "Fold: 2\n",
      "===>Accuracy score: 0.8328541557762676\n"
     ]
    },
    {
     "name": "stderr",
     "output_type": "stream",
     "text": [
      "C:\\Users\\ayush\\anaconda3\\Lib\\site-packages\\sklearn\\preprocessing\\_label.py:99: DataConversionWarning: A column-vector y was passed when a 1d array was expected. Please change the shape of y to (n_samples, ), for example using ravel().\n",
      "  y = column_or_1d(y, warn=True)\n",
      "C:\\Users\\ayush\\anaconda3\\Lib\\site-packages\\sklearn\\preprocessing\\_label.py:134: DataConversionWarning: A column-vector y was passed when a 1d array was expected. Please change the shape of y to (n_samples, ), for example using ravel().\n",
      "  y = column_or_1d(y, dtype=self.classes_.dtype, warn=True)\n",
      "C:\\Users\\ayush\\anaconda3\\Lib\\site-packages\\sklearn\\preprocessing\\_label.py:134: DataConversionWarning: A column-vector y was passed when a 1d array was expected. Please change the shape of y to (n_samples, ), for example using ravel().\n",
      "  y = column_or_1d(y, dtype=self.classes_.dtype, warn=True)\n"
     ]
    },
    {
     "name": "stdout",
     "output_type": "stream",
     "text": [
      "[125]\tvalid_0's multi_logloss: 0.468209\n",
      "[250]\tvalid_0's multi_logloss: 0.447746\n",
      "[375]\tvalid_0's multi_logloss: 0.440425\n",
      "[500]\tvalid_0's multi_logloss: 0.436694\n",
      "[625]\tvalid_0's multi_logloss: 0.434573\n",
      "[750]\tvalid_0's multi_logloss: 0.432875\n",
      "[875]\tvalid_0's multi_logloss: 0.431729\n",
      "[1000]\tvalid_0's multi_logloss: 0.430705\n",
      "[1125]\tvalid_0's multi_logloss: 0.429992\n",
      "[1250]\tvalid_0's multi_logloss: 0.429218\n",
      "[1375]\tvalid_0's multi_logloss: 0.428764\n",
      "[1500]\tvalid_0's multi_logloss: 0.428411\n",
      "[1625]\tvalid_0's multi_logloss: 0.42788\n",
      "[1750]\tvalid_0's multi_logloss: 0.427602\n",
      "[1875]\tvalid_0's multi_logloss: 0.427355\n",
      "[2000]\tvalid_0's multi_logloss: 0.427073\n",
      "[2125]\tvalid_0's multi_logloss: 0.426881\n",
      "[2250]\tvalid_0's multi_logloss: 0.426636\n",
      "[2375]\tvalid_0's multi_logloss: 0.426458\n",
      "[2500]\tvalid_0's multi_logloss: 0.426279\n",
      "[2625]\tvalid_0's multi_logloss: 0.426273\n",
      "[2750]\tvalid_0's multi_logloss: 0.426189\n",
      "[2875]\tvalid_0's multi_logloss: 0.426097\n",
      "[3000]\tvalid_0's multi_logloss: 0.425909\n",
      "[3125]\tvalid_0's multi_logloss: 0.425812\n",
      "[3250]\tvalid_0's multi_logloss: 0.425762\n",
      "[3375]\tvalid_0's multi_logloss: 0.42563\n",
      "[3500]\tvalid_0's multi_logloss: 0.425657\n",
      "\n",
      "Fold: 3\n",
      "===>Accuracy score: 0.8305018295870361\n"
     ]
    },
    {
     "name": "stderr",
     "output_type": "stream",
     "text": [
      "C:\\Users\\ayush\\anaconda3\\Lib\\site-packages\\sklearn\\preprocessing\\_label.py:99: DataConversionWarning: A column-vector y was passed when a 1d array was expected. Please change the shape of y to (n_samples, ), for example using ravel().\n",
      "  y = column_or_1d(y, warn=True)\n",
      "C:\\Users\\ayush\\anaconda3\\Lib\\site-packages\\sklearn\\preprocessing\\_label.py:134: DataConversionWarning: A column-vector y was passed when a 1d array was expected. Please change the shape of y to (n_samples, ), for example using ravel().\n",
      "  y = column_or_1d(y, dtype=self.classes_.dtype, warn=True)\n",
      "C:\\Users\\ayush\\anaconda3\\Lib\\site-packages\\sklearn\\preprocessing\\_label.py:134: DataConversionWarning: A column-vector y was passed when a 1d array was expected. Please change the shape of y to (n_samples, ), for example using ravel().\n",
      "  y = column_or_1d(y, dtype=self.classes_.dtype, warn=True)\n"
     ]
    },
    {
     "name": "stdout",
     "output_type": "stream",
     "text": [
      "[125]\tvalid_0's multi_logloss: 0.474146\n",
      "[250]\tvalid_0's multi_logloss: 0.452069\n",
      "[375]\tvalid_0's multi_logloss: 0.444572\n",
      "[500]\tvalid_0's multi_logloss: 0.440951\n",
      "[625]\tvalid_0's multi_logloss: 0.438735\n",
      "[750]\tvalid_0's multi_logloss: 0.437349\n",
      "[875]\tvalid_0's multi_logloss: 0.436258\n",
      "[1000]\tvalid_0's multi_logloss: 0.43548\n",
      "[1125]\tvalid_0's multi_logloss: 0.434917\n",
      "[1250]\tvalid_0's multi_logloss: 0.434579\n",
      "[1375]\tvalid_0's multi_logloss: 0.434172\n",
      "[1500]\tvalid_0's multi_logloss: 0.433857\n",
      "[1625]\tvalid_0's multi_logloss: 0.433657\n",
      "[1750]\tvalid_0's multi_logloss: 0.433551\n",
      "[1875]\tvalid_0's multi_logloss: 0.433421\n",
      "[2000]\tvalid_0's multi_logloss: 0.433205\n",
      "[2125]\tvalid_0's multi_logloss: 0.433146\n",
      "[2250]\tvalid_0's multi_logloss: 0.43306\n",
      "[2375]\tvalid_0's multi_logloss: 0.432918\n",
      "[2500]\tvalid_0's multi_logloss: 0.432849\n",
      "[2625]\tvalid_0's multi_logloss: 0.432748\n",
      "[2750]\tvalid_0's multi_logloss: 0.432658\n",
      "[2875]\tvalid_0's multi_logloss: 0.432608\n",
      "[3000]\tvalid_0's multi_logloss: 0.432534\n",
      "[3125]\tvalid_0's multi_logloss: 0.432483\n"
     ]
    }
   ],
   "source": [
    "model = Model(train,test)\n",
    "lgbm_preds = model.fit(lgbm_params,'lgbm')"
   ]
  },
  {
   "cell_type": "code",
   "execution_count": 7,
   "id": "ba569e32",
   "metadata": {
    "execution": {
     "iopub.execute_input": "2024-06-05T16:12:59.228657Z",
     "iopub.status.busy": "2024-06-05T16:12:59.227794Z",
     "iopub.status.idle": "2024-06-05T16:12:59.243291Z",
     "shell.execute_reply": "2024-06-05T16:12:59.242361Z"
    },
    "papermill": {
     "duration": 0.042374,
     "end_time": "2024-06-05T16:12:59.245216",
     "exception": false,
     "start_time": "2024-06-05T16:12:59.202842",
     "status": "completed"
    },
    "tags": []
   },
   "outputs": [],
   "source": [
    "label_mapping = {\n",
    "    0: \"Graduate\",\n",
    "    1: \"Dropout\",\n",
    "    2: \"Enrolled\"\n",
    "}\n",
    "predicted_labels = [label_mapping[value] for value in lgbm_preds]"
   ]
  },
  {
   "cell_type": "code",
   "execution_count": 8,
   "id": "acf87e69",
   "metadata": {
    "execution": {
     "iopub.execute_input": "2024-06-05T16:12:59.293495Z",
     "iopub.status.busy": "2024-06-05T16:12:59.293159Z",
     "iopub.status.idle": "2024-06-05T16:12:59.415054Z",
     "shell.execute_reply": "2024-06-05T16:12:59.414153Z"
    },
    "papermill": {
     "duration": 0.148508,
     "end_time": "2024-06-05T16:12:59.417271",
     "exception": false,
     "start_time": "2024-06-05T16:12:59.268763",
     "status": "completed"
    },
    "tags": []
   },
   "outputs": [
    {
     "data": {
      "text/html": [
       "<div>\n",
       "<style scoped>\n",
       "    .dataframe tbody tr th:only-of-type {\n",
       "        vertical-align: middle;\n",
       "    }\n",
       "\n",
       "    .dataframe tbody tr th {\n",
       "        vertical-align: top;\n",
       "    }\n",
       "\n",
       "    .dataframe thead th {\n",
       "        text-align: right;\n",
       "    }\n",
       "</style>\n",
       "<table border=\"1\" class=\"dataframe\">\n",
       "  <thead>\n",
       "    <tr style=\"text-align: right;\">\n",
       "      <th></th>\n",
       "      <th>id</th>\n",
       "      <th>Target</th>\n",
       "    </tr>\n",
       "  </thead>\n",
       "  <tbody>\n",
       "    <tr>\n",
       "      <th>0</th>\n",
       "      <td>76518</td>\n",
       "      <td>Dropout</td>\n",
       "    </tr>\n",
       "    <tr>\n",
       "      <th>1</th>\n",
       "      <td>76519</td>\n",
       "      <td>Graduate</td>\n",
       "    </tr>\n",
       "    <tr>\n",
       "      <th>2</th>\n",
       "      <td>76520</td>\n",
       "      <td>Graduate</td>\n",
       "    </tr>\n",
       "    <tr>\n",
       "      <th>3</th>\n",
       "      <td>76521</td>\n",
       "      <td>Graduate</td>\n",
       "    </tr>\n",
       "    <tr>\n",
       "      <th>4</th>\n",
       "      <td>76522</td>\n",
       "      <td>Enrolled</td>\n",
       "    </tr>\n",
       "    <tr>\n",
       "      <th>...</th>\n",
       "      <td>...</td>\n",
       "      <td>...</td>\n",
       "    </tr>\n",
       "    <tr>\n",
       "      <th>51007</th>\n",
       "      <td>127525</td>\n",
       "      <td>Dropout</td>\n",
       "    </tr>\n",
       "    <tr>\n",
       "      <th>51008</th>\n",
       "      <td>127526</td>\n",
       "      <td>Dropout</td>\n",
       "    </tr>\n",
       "    <tr>\n",
       "      <th>51009</th>\n",
       "      <td>127527</td>\n",
       "      <td>Dropout</td>\n",
       "    </tr>\n",
       "    <tr>\n",
       "      <th>51010</th>\n",
       "      <td>127528</td>\n",
       "      <td>Dropout</td>\n",
       "    </tr>\n",
       "    <tr>\n",
       "      <th>51011</th>\n",
       "      <td>127529</td>\n",
       "      <td>Dropout</td>\n",
       "    </tr>\n",
       "  </tbody>\n",
       "</table>\n",
       "<p>51012 rows × 2 columns</p>\n",
       "</div>"
      ],
      "text/plain": [
       "           id    Target\n",
       "0       76518   Dropout\n",
       "1       76519  Graduate\n",
       "2       76520  Graduate\n",
       "3       76521  Graduate\n",
       "4       76522  Enrolled\n",
       "...       ...       ...\n",
       "51007  127525   Dropout\n",
       "51008  127526   Dropout\n",
       "51009  127527   Dropout\n",
       "51010  127528   Dropout\n",
       "51011  127529   Dropout\n",
       "\n",
       "[51012 rows x 2 columns]"
      ]
     },
     "execution_count": 8,
     "metadata": {},
     "output_type": "execute_result"
    }
   ],
   "source": [
    "submit = pd.read_csv('sample_submission.csv')\n",
    "submit.Target = predicted_labels\n",
    "submit.to_csv('submission.csv',index=False)\n",
    "submit"
   ]
  }
 ],
 "metadata": {
  "kaggle": {
   "accelerator": "gpu",
   "dataSources": [
    {
     "databundleVersionId": 8710574,
     "sourceId": 73290,
     "sourceType": "competition"
    }
   ],
   "dockerImageVersionId": 30716,
   "isGpuEnabled": true,
   "isInternetEnabled": true,
   "language": "python",
   "sourceType": "notebook"
  },
  "kernelspec": {
   "display_name": "Python 3 (ipykernel)",
   "language": "python",
   "name": "python3"
  },
  "language_info": {
   "codemirror_mode": {
    "name": "ipython",
    "version": 3
   },
   "file_extension": ".py",
   "mimetype": "text/x-python",
   "name": "python",
   "nbconvert_exporter": "python",
   "pygments_lexer": "ipython3",
   "version": "3.11.3"
  },
  "papermill": {
   "default_parameters": {},
   "duration": 735.319225,
   "end_time": "2024-06-05T16:13:00.364934",
   "environment_variables": {},
   "exception": null,
   "input_path": "__notebook__.ipynb",
   "output_path": "__notebook__.ipynb",
   "parameters": {},
   "start_time": "2024-06-05T16:00:45.045709",
   "version": "2.5.0"
  }
 },
 "nbformat": 4,
 "nbformat_minor": 5
}
